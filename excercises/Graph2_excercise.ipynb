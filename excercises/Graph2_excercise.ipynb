{
  "nbformat": 4,
  "nbformat_minor": 0,
  "metadata": {
    "colab": {
      "provenance": []
    },
    "kernelspec": {
      "name": "python3",
      "display_name": "Python 3"
    },
    "language_info": {
      "name": "python"
    }
  },
  "cells": [
    {
      "cell_type": "code",
      "source": [
        "# !pip install langgraph"
      ],
      "metadata": {
        "id": "d-PefUQkYAoo"
      },
      "execution_count": 11,
      "outputs": []
    },
    {
      "cell_type": "code",
      "source": [
        "from typing import TypedDict,List\n",
        "from langgraph.graph import StateGraph"
      ],
      "metadata": {
        "id": "x6PIoml9YLbY"
      },
      "execution_count": 12,
      "outputs": []
    },
    {
      "cell_type": "code",
      "source": [
        "class AgentState(TypedDict):\n",
        "    values:List[int]\n",
        "    name:str\n",
        "    operation:str\n",
        ""
      ],
      "metadata": {
        "id": "4PB-2CZrYiQL"
      },
      "execution_count": 13,
      "outputs": []
    },
    {
      "cell_type": "code",
      "source": [
        "import math\n",
        "\n",
        "def operation(state : AgentState) -> AgentState:\n",
        "    \"\"\"This function is to perfrom operations\"\"\"\n",
        "    if state['operation'] == '+':\n",
        "        state['operation'] = f\"Hi {state['name']}! Your sum = {sum(state['values'])}\"\n",
        "    if state['operation'] == '*':\n",
        "        state['operation'] = f\"Hi {state['name']}! Your product = {math.prod(state['values'])}\"\n",
        "    return state"
      ],
      "metadata": {
        "id": "s_k6u1d8ZNUF"
      },
      "execution_count": 14,
      "outputs": []
    },
    {
      "cell_type": "code",
      "source": [
        "graph = StateGraph(AgentState)\n",
        "\n",
        "graph.add_node(\"operation\",operation)\n",
        "graph.set_entry_point(\"operation\")\n",
        "graph.set_finish_point(\"operation\")\n",
        "\n",
        "app = graph.compile()"
      ],
      "metadata": {
        "id": "9-OrORaQamuN"
      },
      "execution_count": 15,
      "outputs": []
    },
    {
      "cell_type": "code",
      "source": [
        "from IPython.display import Image,display\n",
        "display(Image(app.get_graph().draw_mermaid_png()))"
      ],
      "metadata": {
        "colab": {
          "base_uri": "https://localhost:8080/",
          "height": 251
        },
        "id": "cWx4OPIZbGNV",
        "outputId": "adf325bc-1a0d-4d4e-ef89-7e652dbb64d7"
      },
      "execution_count": 16,
      "outputs": [
        {
          "output_type": "display_data",
          "data": {
            "image/png": "[encoded data removed]",
            "text/plain": [
              "<IPython.core.display.Image object>"
            ]
          },
          "metadata": {}
        }
      ]
    },
    {
      "cell_type": "code",
      "source": [
        "result = app.invoke({\"name\":\"ashok\",\"values\":[1,2,3,4,5,6],\"operation\":\"+\"})"
      ],
      "metadata": {
        "id": "QDnvMcsAbSzX"
      },
      "execution_count": 19,
      "outputs": []
    },
    {
      "cell_type": "code",
      "source": [
        "result"
      ],
      "metadata": {
        "colab": {
          "base_uri": "https://localhost:8080/"
        },
        "id": "DCnt6yTJcBcI",
        "outputId": "6bb10c61-670f-4ece-9339-c543496c9001"
      },
      "execution_count": 20,
      "outputs": [
        {
          "output_type": "execute_result",
          "data": {
            "text/plain": [
              "{'values': [1, 2, 3, 4, 5, 6],\n",
              " 'name': 'ashok',\n",
              " 'operation': 'Hi ashok! Your sum = 21'}"
            ]
          },
          "metadata": {},
          "execution_count": 20
        }
      ]
    },
    {
      "cell_type": "code",
      "source": [],
      "metadata": {
        "id": "cdeXxGLCcZGB"
      },
      "execution_count": null,
      "outputs": []
    }
  ]
}