{
  "nbformat": 4,
  "nbformat_minor": 0,
  "metadata": {
    "colab": {
      "provenance": []
    },
    "kernelspec": {
      "name": "python3",
      "display_name": "Python 3"
    },
    "language_info": {
      "name": "python"
    }
  },
  "cells": [
    {
      "cell_type": "code",
      "execution_count": 54,
      "metadata": {
        "id": "SW6FivFZwhW8"
      },
      "outputs": [],
      "source": [
        "# !pip install langgraph"
      ]
    },
    {
      "cell_type": "code",
      "source": [
        "from typing import TypedDict\n",
        "from langgraph.graph import StateGraph,START,END\n"
      ],
      "metadata": {
        "id": "33FXl1mlxQ0R"
      },
      "execution_count": 55,
      "outputs": []
    },
    {
      "cell_type": "code",
      "source": [
        "class AgentState(TypedDict):\n",
        "    number1 : int\n",
        "    operator : str\n",
        "    number2 : int\n",
        "    final_number : int"
      ],
      "metadata": {
        "id": "-6VM2ZaKxdb3"
      },
      "execution_count": 56,
      "outputs": []
    },
    {
      "cell_type": "code",
      "source": [
        "def addition(state : AgentState)->AgentState:\n",
        "  \"this node adds the two numbers \"\n",
        "  state[\"final_number\"]=state[\"number1\"]+state[\"number2\"]\n",
        "  return state\n",
        "def subtraction(state:AgentState)->AgentState:\n",
        "  \"this node subtracts the two numbers\"\n",
        "  state[\"final_number\"]=state[\"number1\"]-state[\"number2\"]\n",
        "  return state\n",
        "\n",
        "def decide_next_node(state:AgentState)->AgentState:\n",
        "  \"this node selects the next node in the graph\"\n",
        "  if state[\"operator\"] == \"+\":\n",
        "    return \"addition_operator\"\n",
        "  elif state[\"operator\"] == \"-\":\n",
        "    return \"subtraction_operator\"\n"
      ],
      "metadata": {
        "id": "Ii5onk-gxyiN"
      },
      "execution_count": 57,
      "outputs": []
    },
    {
      "cell_type": "code",
      "source": [
        "graph = StateGraph(AgentState)\n",
        "graph.add_node(\"add_node\",addition)\n",
        "graph.add_node(\"subtract_node\",subtraction)\n",
        "graph.add_node(\"router\",lambda state:state)  #passthrough function\n",
        "\n",
        "graph.add_edge(START,\"router\")\n",
        "\n",
        "graph.add_conditional_edges(\n",
        "    \"router\",\n",
        "    decide_next_node,\n",
        "    {\n",
        "        # Edge: Node\n",
        "        \"addition_operator\":\"add_node\",\n",
        "        \"subtraction_operator\":\"subtract_node\"\n",
        "    }\n",
        ")\n",
        "graph.add_edge(\"add_node\",END)\n",
        "graph.add_edge(\"subtract_node\",END)\n",
        "app=graph.compile()"
      ],
      "metadata": {
        "id": "cdh7KVYAz87c"
      },
      "execution_count": 58,
      "outputs": []
    },
    {
      "cell_type": "code",
      "source": [
        "from IPython.display import Image,display\n",
        "display(Image(app.get_graph().draw_mermaid_png()))"
      ],
      "metadata": {
        "colab": {
          "base_uri": "https://localhost:8080/",
          "height": 374
        },
        "id": "f3Zy4XF92Tj4",
        "outputId": "55c65b80-78ee-4506-8d15-a8b52076e87c"
      },
      "execution_count": 59,
      "outputs": [
        {
          "output_type": "display_data",
          "data": {
            "image/png": "[encoded data removed]",
            "text/plain": [
              "<IPython.core.display.Image object>"
            ]
          },
          "metadata": {}
        }
      ]
    },
    {
      "cell_type": "code",
      "source": [
        "initial_state_2 = {\"number1\": 10, \"operator\": \"-\", \"number2\": 5}\n",
        "print(app.invoke(initial_state_2))"
      ],
      "metadata": {
        "colab": {
          "base_uri": "https://localhost:8080/"
        },
        "id": "iTtSZfAy34gL",
        "outputId": "c5fe035b-958f-4d5d-cd90-01120d1a5dc3"
      },
      "execution_count": 60,
      "outputs": [
        {
          "output_type": "stream",
          "name": "stdout",
          "text": [
            "{'number1': 10, 'operator': '-', 'number2': 5, 'final_number': 5}\n"
          ]
        }
      ]
    }
  ]
}